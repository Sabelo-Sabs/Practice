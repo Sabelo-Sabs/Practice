{
  "nbformat": 4,
  "nbformat_minor": 0,
  "metadata": {
    "colab": {
      "name": "Numpy Working with vectors.ipynb",
      "provenance": [],
      "collapsed_sections": [],
      "authorship_tag": "ABX9TyOJmFg6ZVPIyLDxuLe5KD09",
      "include_colab_link": true
    },
    "kernelspec": {
      "name": "python3",
      "display_name": "Python 3"
    },
    "language_info": {
      "name": "python"
    }
  },
  "cells": [
    {
      "cell_type": "markdown",
      "metadata": {
        "id": "view-in-github",
        "colab_type": "text"
      },
      "source": [
        "<a href=\"https://colab.research.google.com/github/Sabelo-Sabs/Practice/blob/main/Numpy_Working_with_vectors.ipynb\" target=\"_parent\"><img src=\"https://colab.research.google.com/assets/colab-badge.svg\" alt=\"Open In Colab\"/></a>"
      ]
    },
    {
      "cell_type": "markdown",
      "metadata": {
        "id": "jPM3hCojPmBn"
      },
      "source": [
        "# Numerical Python\n",
        "## Creating Vectors and Extracting values from them."
      ]
    },
    {
      "cell_type": "code",
      "metadata": {
        "id": "x1l8hIVnQBAn"
      },
      "source": [
        "import numpy as np # importing numpy"
      ],
      "execution_count": 1,
      "outputs": []
    },
    {
      "cell_type": "code",
      "metadata": {
        "colab": {
          "base_uri": "https://localhost:8080/"
        },
        "id": "rjo9PHgtS3NC",
        "outputId": "5e31f53f-d73f-4ec8-8ac2-980c47518339"
      },
      "source": [
        "lst = [1,2,3,4,5,6,7,8,9,0]\n",
        "array = np.array(lst)\n",
        "array # making an array from a list"
      ],
      "execution_count": 2,
      "outputs": [
        {
          "output_type": "execute_result",
          "data": {
            "text/plain": [
              "array([1, 2, 3, 4, 5, 6, 7, 8, 9, 0])"
            ]
          },
          "metadata": {},
          "execution_count": 2
        }
      ]
    },
    {
      "cell_type": "code",
      "metadata": {
        "id": "NTzSHq55TT7a"
      },
      "source": [
        "# Extracting Values\n",
        "first_element = array[0]\n",
        "last_element = array[-1]"
      ],
      "execution_count": 3,
      "outputs": []
    },
    {
      "cell_type": "code",
      "metadata": {
        "colab": {
          "base_uri": "https://localhost:8080/"
        },
        "id": "6rPCKbDqT74t",
        "outputId": "038f6ed6-e981-4487-8759-cc21435f1cb4"
      },
      "source": [
        "first_element"
      ],
      "execution_count": 4,
      "outputs": [
        {
          "output_type": "execute_result",
          "data": {
            "text/plain": [
              "1"
            ]
          },
          "metadata": {},
          "execution_count": 4
        }
      ]
    },
    {
      "cell_type": "code",
      "metadata": {
        "colab": {
          "base_uri": "https://localhost:8080/"
        },
        "id": "6GQPfwx7T-Bg",
        "outputId": "80b60754-75eb-41ec-e962-7b7d05f89ba9"
      },
      "source": [
        "last_element"
      ],
      "execution_count": 5,
      "outputs": [
        {
          "output_type": "execute_result",
          "data": {
            "text/plain": [
              "0"
            ]
          },
          "metadata": {},
          "execution_count": 5
        }
      ]
    },
    {
      "cell_type": "code",
      "metadata": {
        "colab": {
          "base_uri": "https://localhost:8080/"
        },
        "id": "NysTE_EJUBQm",
        "outputId": "ba3f9f37-bced-4c18-e084-6ca78069f57a"
      },
      "source": [
        "#Setting Values\n",
        "array[-1] = 10\n",
        "array # Changed the last item to number 10"
      ],
      "execution_count": 6,
      "outputs": [
        {
          "output_type": "execute_result",
          "data": {
            "text/plain": [
              "array([ 1,  2,  3,  4,  5,  6,  7,  8,  9, 10])"
            ]
          },
          "metadata": {},
          "execution_count": 6
        }
      ]
    },
    {
      "cell_type": "code",
      "metadata": {
        "colab": {
          "base_uri": "https://localhost:8080/"
        },
        "id": "Zr_nlJpAUyZY",
        "outputId": "936cd9fc-75e9-47fb-ba2b-5e080fbff1cc"
      },
      "source": [
        "#Creating Vectors with np.arange\n",
        "seq_nums = np.arange(0,101,2) # Even numbers from 0 to 100\n",
        "seq_nums"
      ],
      "execution_count": 8,
      "outputs": [
        {
          "output_type": "execute_result",
          "data": {
            "text/plain": [
              "array([  0,   2,   4,   6,   8,  10,  12,  14,  16,  18,  20,  22,  24,\n",
              "        26,  28,  30,  32,  34,  36,  38,  40,  42,  44,  46,  48,  50,\n",
              "        52,  54,  56,  58,  60,  62,  64,  66,  68,  70,  72,  74,  76,\n",
              "        78,  80,  82,  84,  86,  88,  90,  92,  94,  96,  98, 100])"
            ]
          },
          "metadata": {},
          "execution_count": 8
        }
      ]
    },
    {
      "cell_type": "markdown",
      "metadata": {
        "id": "TghD1V_kXB9Z"
      },
      "source": [
        "------"
      ]
    },
    {
      "cell_type": "markdown",
      "metadata": {
        "id": "wLn31vJ5W8ch"
      },
      "source": [
        "# Basic Operations"
      ]
    },
    {
      "cell_type": "code",
      "metadata": {
        "id": "J2H3lUxeW_tj"
      },
      "source": [
        "first = np.arange(1,6)\n",
        "Second = np.arange(1,10,2)"
      ],
      "execution_count": 17,
      "outputs": []
    },
    {
      "cell_type": "code",
      "metadata": {
        "colab": {
          "base_uri": "https://localhost:8080/"
        },
        "id": "dcYjqw1VXgpg",
        "outputId": "7eda3602-59e6-4e5a-91e1-9c9212d12b61"
      },
      "source": [
        "first"
      ],
      "execution_count": 18,
      "outputs": [
        {
          "output_type": "execute_result",
          "data": {
            "text/plain": [
              "array([1, 2, 3, 4, 5])"
            ]
          },
          "metadata": {},
          "execution_count": 18
        }
      ]
    },
    {
      "cell_type": "code",
      "metadata": {
        "colab": {
          "base_uri": "https://localhost:8080/"
        },
        "id": "uGwUWvjWXifA",
        "outputId": "27cca5fb-a1d7-471e-9780-2328ca3bc75f"
      },
      "source": [
        "Second"
      ],
      "execution_count": 19,
      "outputs": [
        {
          "output_type": "execute_result",
          "data": {
            "text/plain": [
              "array([1, 3, 5, 7, 9])"
            ]
          },
          "metadata": {},
          "execution_count": 19
        }
      ]
    },
    {
      "cell_type": "code",
      "metadata": {
        "colab": {
          "base_uri": "https://localhost:8080/"
        },
        "id": "ylpTcWoeXm-s",
        "outputId": "fbc54b03-758f-4a56-e0c7-33b642517884"
      },
      "source": [
        "#Addition\n",
        "sum_ = first + Second\n",
        "print(\"sum:\", sum_)"
      ],
      "execution_count": 20,
      "outputs": [
        {
          "output_type": "stream",
          "name": "stdout",
          "text": [
            "sum: [ 2  5  8 11 14]\n"
          ]
        }
      ]
    },
    {
      "cell_type": "code",
      "metadata": {
        "colab": {
          "base_uri": "https://localhost:8080/"
        },
        "id": "m9qIfaMMX_cx",
        "outputId": "774a8c11-a042-419d-f988-109825767be0"
      },
      "source": [
        "#Subtraction\n",
        "sum_ = first - Second\n",
        "print(\"difference:\", sum_)"
      ],
      "execution_count": 21,
      "outputs": [
        {
          "output_type": "stream",
          "name": "stdout",
          "text": [
            "difference: [ 0 -1 -2 -3 -4]\n"
          ]
        }
      ]
    },
    {
      "cell_type": "code",
      "metadata": {
        "colab": {
          "base_uri": "https://localhost:8080/"
        },
        "id": "Sh1ZwzNJYSiI",
        "outputId": "9c945309-e11b-4ffb-92cf-ada5e5feeb60"
      },
      "source": [
        "#Multiplication\n",
        "sum_ = first * Second\n",
        "print(\"Product:\", sum_)"
      ],
      "execution_count": 22,
      "outputs": [
        {
          "output_type": "stream",
          "name": "stdout",
          "text": [
            "Product: [ 1  6 15 28 45]\n"
          ]
        }
      ]
    },
    {
      "cell_type": "code",
      "metadata": {
        "colab": {
          "base_uri": "https://localhost:8080/"
        },
        "id": "PpIzsoszYmAT",
        "outputId": "bb836c17-2346-4fe0-9949-fd6ea887a904"
      },
      "source": [
        "#Division\n",
        "sum_ = np.around(first / Second,2)\n",
        "print(\"Division:\", sum_)"
      ],
      "execution_count": 24,
      "outputs": [
        {
          "output_type": "stream",
          "name": "stdout",
          "text": [
            "Division: [1.   0.67 0.6  0.57 0.56]\n"
          ]
        }
      ]
    },
    {
      "cell_type": "code",
      "metadata": {
        "colab": {
          "base_uri": "https://localhost:8080/"
        },
        "id": "HyLMKng3YzKc",
        "outputId": "9d7fb6e3-e87e-4acb-b775-42b2bae206cd"
      },
      "source": [
        "#Exponential\n",
        "sum_ = first ** Second\n",
        "print(\"Exponential:\", sum_)"
      ],
      "execution_count": 25,
      "outputs": [
        {
          "output_type": "stream",
          "name": "stdout",
          "text": [
            "Exponential: [      1       8     243   16384 1953125]\n"
          ]
        }
      ]
    },
    {
      "cell_type": "markdown",
      "metadata": {
        "id": "VATUZtItaJYC"
      },
      "source": [
        "----\n"
      ]
    }
  ]
}