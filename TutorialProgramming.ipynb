{
  "nbformat": 4,
  "nbformat_minor": 0,
  "metadata": {
    "colab": {
      "name": "TutorialProgramming.ipynb",
      "provenance": [],
      "collapsed_sections": [],
      "toc_visible": true,
      "authorship_tag": "ABX9TyNfKzmt4Fk1BBu5Tl5EBIAh",
      "include_colab_link": true
    },
    "kernelspec": {
      "name": "python3",
      "display_name": "Python 3"
    },
    "language_info": {
      "name": "python"
    }
  },
  "cells": [
    {
      "cell_type": "markdown",
      "metadata": {
        "id": "view-in-github",
        "colab_type": "text"
      },
      "source": [
        "<a href=\"https://colab.research.google.com/github/Sabelo-Sabs/Practice/blob/main/TutorialProgramming.ipynb\" target=\"_parent\"><img src=\"https://colab.research.google.com/assets/colab-badge.svg\" alt=\"Open In Colab\"/></a>"
      ]
    },
    {
      "cell_type": "markdown",
      "metadata": {
        "id": "pN0vBlaMtJn3"
      },
      "source": [
        "# Practice Tutorial\n"
      ]
    },
    {
      "cell_type": "markdown",
      "metadata": {
        "id": "cGOOLzkw6-Ek"
      },
      "source": [
        "# Question 1"
      ]
    },
    {
      "cell_type": "code",
      "metadata": {
        "id": "qdXsfIu-tP2t"
      },
      "source": [
        "import sympy as sp"
      ],
      "execution_count": null,
      "outputs": []
    },
    {
      "cell_type": "code",
      "metadata": {
        "id": "d3V3xvemtZzP"
      },
      "source": [
        "# 1.1.Import Sympy and define the symbols to be used.\n",
        "x,y,t,z = sp.symbols(\"x y t z\")"
      ],
      "execution_count": null,
      "outputs": []
    },
    {
      "cell_type": "code",
      "metadata": {
        "colab": {
          "base_uri": "https://localhost:8080/",
          "height": 38
        },
        "id": "XyAkrdw_tl6A",
        "outputId": "36c532ac-563b-4553-dcaf-e31690147815"
      },
      "source": [
        "#1.2.Factorize:\n",
        "a = x**4 -3*x**2 +1\n",
        "a"
      ],
      "execution_count": null,
      "outputs": [
        {
          "output_type": "execute_result",
          "data": {
            "text/latex": "$\\displaystyle x^{4} - 3 x^{2} + 1$",
            "text/plain": [
              "x**4 - 3*x**2 + 1"
            ]
          },
          "metadata": {},
          "execution_count": 4
        }
      ]
    },
    {
      "cell_type": "code",
      "metadata": {
        "colab": {
          "base_uri": "https://localhost:8080/",
          "height": 38
        },
        "id": "-ZF90NKZuIpD",
        "outputId": "40842e78-f867-44e2-bf7e-ffa0ff5f2ca1"
      },
      "source": [
        "a.factor()"
      ],
      "execution_count": null,
      "outputs": [
        {
          "output_type": "execute_result",
          "data": {
            "text/latex": "$\\displaystyle \\left(x^{2} - x - 1\\right) \\left(x^{2} + x - 1\\right)$",
            "text/plain": [
              "(x**2 - x - 1)*(x**2 + x - 1)"
            ]
          },
          "metadata": {},
          "execution_count": 5
        }
      ]
    },
    {
      "cell_type": "code",
      "metadata": {
        "colab": {
          "base_uri": "https://localhost:8080/",
          "height": 38
        },
        "id": "NSQlkePSudXb",
        "outputId": "40d40d2a-5e96-4940-afc5-db63a94971b2"
      },
      "source": [
        "#1.3.Expand:\n",
        "b = (6*x - 2)*(3*x + 2)*(7*x-1)\n",
        "b"
      ],
      "execution_count": null,
      "outputs": [
        {
          "output_type": "execute_result",
          "data": {
            "text/latex": "$\\displaystyle \\left(3 x + 2\\right) \\left(6 x - 2\\right) \\left(7 x - 1\\right)$",
            "text/plain": [
              "(3*x + 2)*(6*x - 2)*(7*x - 1)"
            ]
          },
          "metadata": {},
          "execution_count": 6
        }
      ]
    },
    {
      "cell_type": "code",
      "metadata": {
        "colab": {
          "base_uri": "https://localhost:8080/",
          "height": 38
        },
        "id": "fTKQQ3nJvIBN",
        "outputId": "aa41c8c7-79ad-46e0-ccf8-4d3e8558a42f"
      },
      "source": [
        "b.expand()"
      ],
      "execution_count": null,
      "outputs": [
        {
          "output_type": "execute_result",
          "data": {
            "text/latex": "$\\displaystyle 126 x^{3} + 24 x^{2} - 34 x + 4$",
            "text/plain": [
              "126*x**3 + 24*x**2 - 34*x + 4"
            ]
          },
          "metadata": {},
          "execution_count": 7
        }
      ]
    },
    {
      "cell_type": "code",
      "metadata": {
        "id": "9fbPphcevPt2"
      },
      "source": [
        "# 1.4.Solve the system of equation:\n",
        "c = x +5*y -2\n",
        "d =-3*x +6*y-15"
      ],
      "execution_count": null,
      "outputs": []
    },
    {
      "cell_type": "code",
      "metadata": {
        "colab": {
          "base_uri": "https://localhost:8080/",
          "height": 38
        },
        "id": "ly603psLwb4j",
        "outputId": "32626c19-9aaf-4b96-819b-1c8f813d3b05"
      },
      "source": [
        "c"
      ],
      "execution_count": null,
      "outputs": [
        {
          "output_type": "execute_result",
          "data": {
            "text/latex": "$\\displaystyle x + 5 y - 2$",
            "text/plain": [
              "x + 5*y - 2"
            ]
          },
          "metadata": {},
          "execution_count": 11
        }
      ]
    },
    {
      "cell_type": "code",
      "metadata": {
        "colab": {
          "base_uri": "https://localhost:8080/",
          "height": 38
        },
        "id": "egNtYpJcweN7",
        "outputId": "c75142f5-a8f4-49e5-d87a-4809c127f031"
      },
      "source": [
        "d"
      ],
      "execution_count": null,
      "outputs": [
        {
          "output_type": "execute_result",
          "data": {
            "text/latex": "$\\displaystyle - 3 x + 6 y - 15$",
            "text/plain": [
              "-3*x + 6*y - 15"
            ]
          },
          "metadata": {},
          "execution_count": 12
        }
      ]
    },
    {
      "cell_type": "code",
      "metadata": {
        "id": "Tiot9opvwjxi"
      },
      "source": [
        "f = sp.solve([c,d],(x,y))"
      ],
      "execution_count": null,
      "outputs": []
    },
    {
      "cell_type": "code",
      "metadata": {
        "colab": {
          "base_uri": "https://localhost:8080/"
        },
        "id": "E8Z48LLuwtts",
        "outputId": "031520c8-29d2-4f71-a671-ce0f357e8141"
      },
      "source": [
        "f"
      ],
      "execution_count": null,
      "outputs": [
        {
          "output_type": "execute_result",
          "data": {
            "text/plain": [
              "{x: -3, y: 1}"
            ]
          },
          "metadata": {},
          "execution_count": 22
        }
      ]
    },
    {
      "cell_type": "code",
      "metadata": {
        "id": "b7csO4Rpw3rN"
      },
      "source": [
        "#1.5.Find the derivative of : \n",
        "d = sp.diff(sp.sin(sp.log(x +3) + sp.cos(3*x) + sp.exp(4*x)))"
      ],
      "execution_count": null,
      "outputs": []
    },
    {
      "cell_type": "code",
      "metadata": {
        "colab": {
          "base_uri": "https://localhost:8080/",
          "height": 58
        },
        "id": "hnuys7FPyR6z",
        "outputId": "d0532405-f0cd-4e27-f0e7-f3e269538a1b"
      },
      "source": [
        "d"
      ],
      "execution_count": null,
      "outputs": [
        {
          "output_type": "execute_result",
          "data": {
            "text/latex": "$\\displaystyle \\left(4 e^{4 x} - 3 \\sin{\\left(3 x \\right)} + \\frac{1}{x + 3}\\right) \\cos{\\left(e^{4 x} + \\log{\\left(x + 3 \\right)} + \\cos{\\left(3 x \\right)} \\right)}$",
            "text/plain": [
              "(4*exp(4*x) - 3*sin(3*x) + 1/(x + 3))*cos(exp(4*x) + log(x + 3) + cos(3*x))"
            ]
          },
          "metadata": {},
          "execution_count": 33
        }
      ]
    },
    {
      "cell_type": "code",
      "metadata": {
        "id": "8caE62BPyrLE"
      },
      "source": [
        "#1.6.Evaluate the limit:\n",
        "h = sp.Limit(((2*sp.sin(x)-sp.sin(2*x))/(x-sp.sin(x))),x,0)"
      ],
      "execution_count": null,
      "outputs": []
    },
    {
      "cell_type": "code",
      "metadata": {
        "colab": {
          "base_uri": "https://localhost:8080/",
          "height": 58
        },
        "id": "Slq3I5GNzycJ",
        "outputId": "58b96d4e-ec8a-4814-afb2-44b57158c328"
      },
      "source": [
        "h"
      ],
      "execution_count": null,
      "outputs": [
        {
          "output_type": "execute_result",
          "data": {
            "text/latex": "$\\displaystyle \\lim_{x \\to 0^+}\\left(\\frac{2 \\sin{\\left(x \\right)} - \\sin{\\left(2 x \\right)}}{x - \\sin{\\left(x \\right)}}\\right)$",
            "text/plain": [
              "Limit((2*sin(x) - sin(2*x))/(x - sin(x)), x, 0)"
            ]
          },
          "metadata": {},
          "execution_count": 37
        }
      ]
    },
    {
      "cell_type": "code",
      "metadata": {
        "colab": {
          "base_uri": "https://localhost:8080/",
          "height": 37
        },
        "id": "qJHPxTx6zzOB",
        "outputId": "d08d1125-4073-4ec5-fa4f-d29f73612b05"
      },
      "source": [
        "h.doit()"
      ],
      "execution_count": null,
      "outputs": [
        {
          "output_type": "execute_result",
          "data": {
            "text/latex": "$\\displaystyle 6$",
            "text/plain": [
              "6"
            ]
          },
          "metadata": {},
          "execution_count": 38
        }
      ]
    },
    {
      "cell_type": "code",
      "metadata": {
        "colab": {
          "base_uri": "https://localhost:8080/",
          "height": 60
        },
        "id": "DOOZPTy30COp",
        "outputId": "07c83fbc-acae-498e-e941-6d5eabc045d4"
      },
      "source": [
        "#1.7.Find  \n",
        "sp.idiff((sp.ln(x*y) + sp.exp(y+x)-sp.sin(x +y**2)),y,x)"
      ],
      "execution_count": null,
      "outputs": [
        {
          "output_type": "execute_result",
          "data": {
            "text/latex": "$\\displaystyle \\frac{y \\left(- x e^{x + y} + x \\cos{\\left(x + y^{2} \\right)} - 1\\right)}{x \\left(- 2 y^{2} \\cos{\\left(x + y^{2} \\right)} + y e^{x + y} + 1\\right)}$",
            "text/plain": [
              "y*(-x*exp(x + y) + x*cos(x + y**2) - 1)/(x*(-2*y**2*cos(x + y**2) + y*exp(x + y) + 1))"
            ]
          },
          "metadata": {},
          "execution_count": 46
        }
      ]
    },
    {
      "cell_type": "code",
      "metadata": {
        "colab": {
          "base_uri": "https://localhost:8080/",
          "height": 314
        },
        "id": "nQ4kr2fT1Whn",
        "outputId": "eef26135-2d8f-49c0-fbbb-2fe03bcbff78"
      },
      "source": [
        "# 1.8.Plot the implicit function:\n",
        "sp.plot_implicit(x*2 -x*y**5 - sp.sqrt(2*x*y + sp.cos(x*y)))"
      ],
      "execution_count": null,
      "outputs": [
        {
          "output_type": "display_data",
          "data": {
            "image/png": "[encoded data removed]",
            "text/plain": [
              "<Figure size 432x288 with 1 Axes>"
            ]
          },
          "metadata": {
            "needs_background": "light"
          }
        },
        {
          "output_type": "execute_result",
          "data": {
            "text/plain": [
              "<sympy.plotting.plot.Plot at 0x7efe436e6110>"
            ]
          },
          "metadata": {},
          "execution_count": 47
        }
      ]
    },
    {
      "cell_type": "code",
      "metadata": {
        "colab": {
          "base_uri": "https://localhost:8080/",
          "height": 56
        },
        "id": "CA6QmZDQ21b7",
        "outputId": "a0975c44-cbeb-40b0-9412-2199ce5c18ac"
      },
      "source": [
        "#1.9.Evaluate the integral:\n",
        "sp.integrate((x*sp.sqrt(4 - 2*x**2)), x)"
      ],
      "execution_count": null,
      "outputs": [
        {
          "output_type": "execute_result",
          "data": {
            "text/latex": "$\\displaystyle \\frac{\\sqrt{2} x^{2} \\sqrt{2 - x^{2}}}{3} - \\frac{2 \\sqrt{2} \\sqrt{2 - x^{2}}}{3}$",
            "text/plain": [
              "sqrt(2)*x**2*sqrt(2 - x**2)/3 - 2*sqrt(2)*sqrt(2 - x**2)/3"
            ]
          },
          "metadata": {},
          "execution_count": 49
        }
      ]
    },
    {
      "cell_type": "markdown",
      "metadata": {
        "id": "epzTYdZT61cE"
      },
      "source": [
        "# Question 2"
      ]
    },
    {
      "cell_type": "markdown",
      "metadata": {
        "id": "bvZhPuEF3ybH"
      },
      "source": [
        "----------"
      ]
    },
    {
      "cell_type": "code",
      "metadata": {
        "id": "vJV0X92O3rbG"
      },
      "source": [
        "import matplotlib.pyplot as plt\n",
        "import numpy as np"
      ],
      "execution_count": null,
      "outputs": []
    },
    {
      "cell_type": "code",
      "metadata": {
        "id": "KmOBPJdm36Ng"
      },
      "source": [
        "x = np.linspace(0,3,100)\n",
        "def f(x):\n",
        "  return np.sin(2*x)"
      ],
      "execution_count": null,
      "outputs": []
    },
    {
      "cell_type": "code",
      "metadata": {
        "colab": {
          "base_uri": "https://localhost:8080/",
          "height": 282
        },
        "id": "ijriu6Ho4i95",
        "outputId": "3e426d82-bac3-4408-ee51-109ca41b3b37"
      },
      "source": [
        "plt.plot(x,f(x))\n",
        "plt.axhline(color = \"black\")\n",
        "plt.fill_between(x,f(x), where = [(x>=(np.pi/-2)) and (x<=(np.pi/2)) for x in x])"
      ],
      "execution_count": null,
      "outputs": [
        {
          "output_type": "execute_result",
          "data": {
            "text/plain": [
              "<matplotlib.collections.PolyCollection at 0x7efe3a3b0110>"
            ]
          },
          "metadata": {},
          "execution_count": 61
        },
        {
          "output_type": "display_data",
          "data": {
            "image/png": "[encoded data removed]",
            "text/plain": [
              "<Figure size 432x288 with 1 Axes>"
            ]
          },
          "metadata": {
            "needs_background": "light"
          }
        }
      ]
    },
    {
      "cell_type": "code",
      "metadata": {
        "id": "wN458vae5nz1"
      },
      "source": [
        ""
      ],
      "execution_count": null,
      "outputs": []
    }
  ]
}