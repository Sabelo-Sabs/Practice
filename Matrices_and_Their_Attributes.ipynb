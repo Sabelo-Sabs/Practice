{
  "nbformat": 4,
  "nbformat_minor": 0,
  "metadata": {
    "colab": {
      "name": "Matrices and Their Attributes.ipynb",
      "provenance": [],
      "collapsed_sections": [],
      "toc_visible": true,
      "authorship_tag": "ABX9TyM3BzhNRtQigdWbaGRFdFsU",
      "include_colab_link": true
    },
    "kernelspec": {
      "name": "python3",
      "display_name": "Python 3"
    },
    "language_info": {
      "name": "python"
    }
  },
  "cells": [
    {
      "cell_type": "markdown",
      "metadata": {
        "id": "view-in-github",
        "colab_type": "text"
      },
      "source": [
        "<a href=\"https://colab.research.google.com/github/Sabelo-Sabs/Practice/blob/main/Matrices_and_Their_Attributes.ipynb\" target=\"_parent\"><img src=\"https://colab.research.google.com/assets/colab-badge.svg\" alt=\"Open In Colab\"/></a>"
      ]
    },
    {
      "cell_type": "markdown",
      "metadata": {
        "id": "41XQ5-G5tHmo"
      },
      "source": [
        "# Making Matrices"
      ]
    },
    {
      "cell_type": "code",
      "metadata": {
        "id": "OdKD52W-s-lm"
      },
      "source": [
        "import numpy as np"
      ],
      "execution_count": 3,
      "outputs": []
    },
    {
      "cell_type": "code",
      "metadata": {
        "id": "FuA7sv9DtN-4"
      },
      "source": [
        "lst = [[1,2,3],\n",
        "       [4,5,6],\n",
        "       [7,8,9],\n",
        "       [10,12,13]]"
      ],
      "execution_count": 7,
      "outputs": []
    },
    {
      "cell_type": "code",
      "metadata": {
        "colab": {
          "base_uri": "https://localhost:8080/"
        },
        "id": "0ez9C_7Bt-Gm",
        "outputId": "791e2d85-054d-47b0-ea91-781655636710"
      },
      "source": [
        "matrix = np.array(lst)\n",
        "matrix"
      ],
      "execution_count": 10,
      "outputs": [
        {
          "output_type": "execute_result",
          "data": {
            "text/plain": [
              "array([[ 1,  2,  3],\n",
              "       [ 4,  5,  6],\n",
              "       [ 7,  8,  9],\n",
              "       [10, 12, 13]])"
            ]
          },
          "metadata": {},
          "execution_count": 10
        }
      ]
    },
    {
      "cell_type": "code",
      "metadata": {
        "colab": {
          "base_uri": "https://localhost:8080/"
        },
        "id": "3D8h51rtuJja",
        "outputId": "84e6f9ff-45aa-4379-f3f2-9e9733aacdd7"
      },
      "source": [
        "#Matrix back to list\n",
        "matrix.tolist()"
      ],
      "execution_count": 9,
      "outputs": [
        {
          "output_type": "execute_result",
          "data": {
            "text/plain": [
              "[[1, 2, 3], [4, 5, 6], [7, 8, 9], [10, 12, 13]]"
            ]
          },
          "metadata": {},
          "execution_count": 9
        }
      ]
    },
    {
      "cell_type": "code",
      "metadata": {
        "colab": {
          "base_uri": "https://localhost:8080/"
        },
        "id": "5WCqZWPDvDRX",
        "outputId": "c7bb1b0b-ba7a-46be-b083-95f3da4cf973"
      },
      "source": [
        "matrix"
      ],
      "execution_count": 11,
      "outputs": [
        {
          "output_type": "execute_result",
          "data": {
            "text/plain": [
              "array([[ 1,  2,  3],\n",
              "       [ 4,  5,  6],\n",
              "       [ 7,  8,  9],\n",
              "       [10, 12, 13]])"
            ]
          },
          "metadata": {},
          "execution_count": 11
        }
      ]
    },
    {
      "cell_type": "code",
      "metadata": {
        "colab": {
          "base_uri": "https://localhost:8080/"
        },
        "id": "VWvdwxKevPy3",
        "outputId": "66af5e7d-24c2-42eb-897f-7dc7d7e40b03"
      },
      "source": [
        "# first row\n",
        "matrix[0]"
      ],
      "execution_count": 12,
      "outputs": [
        {
          "output_type": "execute_result",
          "data": {
            "text/plain": [
              "array([1, 2, 3])"
            ]
          },
          "metadata": {},
          "execution_count": 12
        }
      ]
    },
    {
      "cell_type": "code",
      "metadata": {
        "id": "PZ8CkamDvyTH"
      },
      "source": [
        "#modifying the first row\n",
        "matrix[0] = np.array([3,5,8])"
      ],
      "execution_count": 13,
      "outputs": []
    },
    {
      "cell_type": "code",
      "metadata": {
        "colab": {
          "base_uri": "https://localhost:8080/"
        },
        "id": "ArCJPHPKwA_4",
        "outputId": "f070e699-b9a5-4885-b9b9-175c86008a9e"
      },
      "source": [
        "matrix #modified version"
      ],
      "execution_count": 14,
      "outputs": [
        {
          "output_type": "execute_result",
          "data": {
            "text/plain": [
              "array([[ 3,  5,  8],\n",
              "       [ 4,  5,  6],\n",
              "       [ 7,  8,  9],\n",
              "       [10, 12, 13]])"
            ]
          },
          "metadata": {},
          "execution_count": 14
        }
      ]
    },
    {
      "cell_type": "code",
      "metadata": {
        "colab": {
          "base_uri": "https://localhost:8080/"
        },
        "id": "IDvWoKBFwEql",
        "outputId": "960c9a1a-97ca-4134-aabf-9da9f117224b"
      },
      "source": [
        "matrix[2,1] # second index row and first index column number"
      ],
      "execution_count": 15,
      "outputs": [
        {
          "output_type": "execute_result",
          "data": {
            "text/plain": [
              "8"
            ]
          },
          "metadata": {},
          "execution_count": 15
        }
      ]
    },
    {
      "cell_type": "code",
      "metadata": {
        "id": "f37E8f3wwgmJ"
      },
      "source": [
        "#Reassigning specific indices\n",
        "matrix[2,0] = 12 #Assigning 7 to be 12"
      ],
      "execution_count": 16,
      "outputs": []
    },
    {
      "cell_type": "code",
      "metadata": {
        "colab": {
          "base_uri": "https://localhost:8080/"
        },
        "id": "zJ7BY1lMw8it",
        "outputId": "d275aecb-2f41-46fc-aa05-f5e181d02d26"
      },
      "source": [
        "matrix"
      ],
      "execution_count": 17,
      "outputs": [
        {
          "output_type": "execute_result",
          "data": {
            "text/plain": [
              "array([[ 3,  5,  8],\n",
              "       [ 4,  5,  6],\n",
              "       [12,  8,  9],\n",
              "       [10, 12, 13]])"
            ]
          },
          "metadata": {},
          "execution_count": 17
        }
      ]
    },
    {
      "cell_type": "code",
      "metadata": {
        "colab": {
          "base_uri": "https://localhost:8080/"
        },
        "id": "qgMwqiX5w9tj",
        "outputId": "71054670-2d4a-4ca9-d8da-a0ef7308c63e"
      },
      "source": [
        "#All the rows and 2 column\n",
        "matrix[:, 2]"
      ],
      "execution_count": 18,
      "outputs": [
        {
          "output_type": "execute_result",
          "data": {
            "text/plain": [
              "array([ 8,  6,  9, 13])"
            ]
          },
          "metadata": {},
          "execution_count": 18
        }
      ]
    },
    {
      "cell_type": "markdown",
      "metadata": {
        "id": "hy_uwfxW0FF0"
      },
      "source": [
        "-----"
      ]
    },
    {
      "cell_type": "markdown",
      "metadata": {
        "id": "Vrr7pPgU0B5k"
      },
      "source": [
        "# Attributes"
      ]
    },
    {
      "cell_type": "code",
      "metadata": {
        "id": "GQN9W2dv0ESD"
      },
      "source": [
        "vector = np.arange(5)"
      ],
      "execution_count": 19,
      "outputs": []
    },
    {
      "cell_type": "code",
      "metadata": {
        "colab": {
          "base_uri": "https://localhost:8080/"
        },
        "id": "7mG78QEH1fov",
        "outputId": "6745edc5-9452-411e-ee20-48c34ed9747e"
      },
      "source": [
        "vector.ndim #Number of dimensions"
      ],
      "execution_count": 20,
      "outputs": [
        {
          "output_type": "execute_result",
          "data": {
            "text/plain": [
              "1"
            ]
          },
          "metadata": {},
          "execution_count": 20
        }
      ]
    },
    {
      "cell_type": "code",
      "metadata": {
        "colab": {
          "base_uri": "https://localhost:8080/"
        },
        "id": "q0EDTlOj1iBi",
        "outputId": "713f0579-939e-43f9-9868-4777e7814cdd"
      },
      "source": [
        "matrix.ndim"
      ],
      "execution_count": 21,
      "outputs": [
        {
          "output_type": "execute_result",
          "data": {
            "text/plain": [
              "2"
            ]
          },
          "metadata": {},
          "execution_count": 21
        }
      ]
    },
    {
      "cell_type": "code",
      "metadata": {
        "colab": {
          "base_uri": "https://localhost:8080/"
        },
        "id": "puQYRBc42YuS",
        "outputId": "8a51c20c-79c5-4e22-fd1a-850b04facc79"
      },
      "source": [
        "matrix.dtype #datatype"
      ],
      "execution_count": 22,
      "outputs": [
        {
          "output_type": "execute_result",
          "data": {
            "text/plain": [
              "dtype('int64')"
            ]
          },
          "metadata": {},
          "execution_count": 22
        }
      ]
    },
    {
      "cell_type": "code",
      "metadata": {
        "colab": {
          "base_uri": "https://localhost:8080/"
        },
        "id": "aYwSEwMf2g-b",
        "outputId": "8abc8099-e608-4f30-894f-0653740f6015"
      },
      "source": [
        "matrix.size # number of elements"
      ],
      "execution_count": 23,
      "outputs": [
        {
          "output_type": "execute_result",
          "data": {
            "text/plain": [
              "12"
            ]
          },
          "metadata": {},
          "execution_count": 23
        }
      ]
    },
    {
      "cell_type": "code",
      "metadata": {
        "colab": {
          "base_uri": "https://localhost:8080/"
        },
        "id": "cgc2wzZ22288",
        "outputId": "15338fff-bafe-4b56-c5a3-415558c08ed9"
      },
      "source": [
        "matrix.shape # shape of matrix (R,C) RxC =4 rows and 3 columns"
      ],
      "execution_count": 24,
      "outputs": [
        {
          "output_type": "execute_result",
          "data": {
            "text/plain": [
              "(4, 3)"
            ]
          },
          "metadata": {},
          "execution_count": 24
        }
      ]
    },
    {
      "cell_type": "markdown",
      "metadata": {
        "id": "FRmvKbIe68ua"
      },
      "source": [
        "----------------"
      ]
    },
    {
      "cell_type": "code",
      "metadata": {
        "id": "R0U8_sPz69wG"
      },
      "source": [
        ""
      ],
      "execution_count": null,
      "outputs": []
    }
  ]
}