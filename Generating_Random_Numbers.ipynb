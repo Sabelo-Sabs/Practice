{
  "nbformat": 4,
  "nbformat_minor": 0,
  "metadata": {
    "colab": {
      "name": "Generating Random Numbers.ipynb",
      "provenance": [],
      "collapsed_sections": [],
      "toc_visible": true,
      "authorship_tag": "ABX9TyPANRzhWd9Tvi/c+B8rcmvV",
      "include_colab_link": true
    },
    "kernelspec": {
      "name": "python3",
      "display_name": "Python 3"
    },
    "language_info": {
      "name": "python"
    }
  },
  "cells": [
    {
      "cell_type": "markdown",
      "metadata": {
        "id": "view-in-github",
        "colab_type": "text"
      },
      "source": [
        "<a href=\"https://colab.research.google.com/github/Sabelo-Sabs/Practice/blob/main/Generating_Random_Numbers.ipynb\" target=\"_parent\"><img src=\"https://colab.research.google.com/assets/colab-badge.svg\" alt=\"Open In Colab\"/></a>"
      ]
    },
    {
      "cell_type": "markdown",
      "metadata": {
        "id": "c_Yzc-I3URta"
      },
      "source": [
        "# Intro to Randomness and Statistics\n"
      ]
    },
    {
      "cell_type": "code",
      "metadata": {
        "id": "TdLg6_VFTJYR"
      },
      "source": [
        "#Generators and Randomn Numbers"
      ],
      "execution_count": null,
      "outputs": []
    },
    {
      "cell_type": "code",
      "metadata": {
        "id": "QC5GT1t2UWRe"
      },
      "source": [
        "from numpy import random"
      ],
      "execution_count": 1,
      "outputs": []
    },
    {
      "cell_type": "code",
      "metadata": {
        "id": "Psy6_nAcVRHA"
      },
      "source": [
        "rng = random.default_rng() #This initiates a \"Generator\" object"
      ],
      "execution_count": 2,
      "outputs": []
    },
    {
      "cell_type": "code",
      "metadata": {
        "colab": {
          "base_uri": "https://localhost:8080/"
        },
        "id": "stNtUVZKVodc",
        "outputId": "525afa07-0a2f-49ad-d11b-f9fca1ac49bf"
      },
      "source": [
        "rng.integers(0,11, size=10)"
      ],
      "execution_count": 5,
      "outputs": [
        {
          "output_type": "execute_result",
          "data": {
            "text/plain": [
              "array([ 7,  8,  4, 10,  5,  9,  7,  6,  4, 10])"
            ]
          },
          "metadata": {},
          "execution_count": 5
        }
      ]
    },
    {
      "cell_type": "code",
      "metadata": {
        "colab": {
          "base_uri": "https://localhost:8080/"
        },
        "id": "k8eC1laaWH1Y",
        "outputId": "c00486cf-8eaf-4d7d-d05a-4ba079881ca9"
      },
      "source": [
        "#Random bits\n",
        "rng.integers(2,size =20)"
      ],
      "execution_count": 6,
      "outputs": [
        {
          "output_type": "execute_result",
          "data": {
            "text/plain": [
              "array([0, 0, 0, 0, 1, 1, 1, 1, 1, 1, 0, 1, 1, 1, 0, 0, 1, 1, 0, 1])"
            ]
          },
          "metadata": {},
          "execution_count": 6
        }
      ]
    },
    {
      "cell_type": "markdown",
      "metadata": {
        "id": "E5jMXIRNXwmA"
      },
      "source": [
        "Random, Shuffle, and Choice"
      ]
    },
    {
      "cell_type": "code",
      "metadata": {
        "colab": {
          "base_uri": "https://localhost:8080/"
        },
        "id": "Tc9z2HrkXINR",
        "outputId": "b1ffd960-edb4-492b-ecea-d29d2deaaaa8"
      },
      "source": [
        "#Random floats between 0 and 1\n",
        "uniform_floats = rng.random(20)\n",
        "uniform_floats"
      ],
      "execution_count": 7,
      "outputs": [
        {
          "output_type": "execute_result",
          "data": {
            "text/plain": [
              "array([0.7477833 , 0.61041261, 0.87618389, 0.05829747, 0.05375937,\n",
              "       0.08729104, 0.81555587, 0.13720702, 0.3506353 , 0.56620159,\n",
              "       0.98171156, 0.66707537, 0.3204287 , 0.72075146, 0.89520075,\n",
              "       0.0377702 , 0.06251095, 0.85745   , 0.281995  , 0.95474369])"
            ]
          },
          "metadata": {},
          "execution_count": 7
        }
      ]
    },
    {
      "cell_type": "code",
      "metadata": {
        "colab": {
          "base_uri": "https://localhost:8080/",
          "height": 282
        },
        "id": "isgf_kn9YQhP",
        "outputId": "3332997f-12f9-48d7-8966-711cdc5ae519"
      },
      "source": [
        "#Drawing randomness\n",
        "import matplotlib.pyplot as plt\n",
        "x = rng.random(100)\n",
        "y = rng.random(100)\n",
        "\n",
        "plt.scatter(x,y)"
      ],
      "execution_count": 12,
      "outputs": [
        {
          "output_type": "execute_result",
          "data": {
            "text/plain": [
              "<matplotlib.collections.PathCollection at 0x7efc768dc210>"
            ]
          },
          "metadata": {},
          "execution_count": 12
        },
        {
          "output_type": "display_data",
          "data": {
            "image/png": "[encoded data removed]",
            "text/plain": [
              "<Figure size 432x288 with 1 Axes>"
            ]
          },
          "metadata": {
            "needs_background": "light"
          }
        }
      ]
    },
    {
      "cell_type": "code",
      "metadata": {
        "colab": {
          "base_uri": "https://localhost:8080/"
        },
        "id": "oMZhyGGUYnyA",
        "outputId": "77f1852b-ce34-4900-83c5-605e4bf57fcf"
      },
      "source": [
        "#Shuffle & Choice Function\n",
        "import numpy as np\n",
        "array = np.array([4,8,12,15,24,29])\n",
        "rng.shuffle(array)\n",
        "print(\"Shuffled Array: \",array)\n"
      ],
      "execution_count": 16,
      "outputs": [
        {
          "output_type": "stream",
          "name": "stdout",
          "text": [
            "Shuffled Array:  [15  8 29  4 12 24]\n"
          ]
        }
      ]
    },
    {
      "cell_type": "code",
      "metadata": {
        "colab": {
          "base_uri": "https://localhost:8080/"
        },
        "id": "cezQABGiZ7sH",
        "outputId": "0a2d1f2c-e26c-4172-c8bc-ecd308e9c119"
      },
      "source": [
        "Two_elements_from_array = rng.choice(array, size=2) #With Replacement\n",
        "print(\"Two elements:\", Two_elements_from_array)"
      ],
      "execution_count": 17,
      "outputs": [
        {
          "output_type": "stream",
          "name": "stdout",
          "text": [
            "Two elements: [29  4]\n"
          ]
        }
      ]
    },
    {
      "cell_type": "code",
      "metadata": {
        "colab": {
          "base_uri": "https://localhost:8080/"
        },
        "id": "mZMjbbYBbN4d",
        "outputId": "f1cc9f1e-2239-42d3-dec8-cf434b0b6970"
      },
      "source": [
        "Two_elements_from_array = rng.choice(array, size=2, replace=False) #Without Replacement, Never take the same thing twice\n",
        "print(\"Two elements:\", Two_elements_from_array)"
      ],
      "execution_count": 19,
      "outputs": [
        {
          "output_type": "stream",
          "name": "stdout",
          "text": [
            "Two elements: [ 4 12]\n"
          ]
        }
      ]
    },
    {
      "cell_type": "markdown",
      "metadata": {
        "id": "tbPxxQMjbmHy"
      },
      "source": [
        "-----"
      ]
    }
  ]
}