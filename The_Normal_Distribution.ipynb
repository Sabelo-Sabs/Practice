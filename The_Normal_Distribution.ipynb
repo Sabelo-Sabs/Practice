{
  "nbformat": 4,
  "nbformat_minor": 0,
  "metadata": {
    "colab": {
      "name": "The Normal Distribution.ipynb",
      "provenance": [],
      "collapsed_sections": [],
      "toc_visible": true,
      "authorship_tag": "ABX9TyO6yB4zaRoXK4Mri3PSJcln",
      "include_colab_link": true
    },
    "kernelspec": {
      "name": "python3",
      "display_name": "Python 3"
    },
    "language_info": {
      "name": "python"
    }
  },
  "cells": [
    {
      "cell_type": "markdown",
      "metadata": {
        "id": "view-in-github",
        "colab_type": "text"
      },
      "source": [
        "<a href=\"https://colab.research.google.com/github/Sabelo-Sabs/Practice/blob/main/The_Normal_Distribution.ipynb\" target=\"_parent\"><img src=\"https://colab.research.google.com/assets/colab-badge.svg\" alt=\"Open In Colab\"/></a>"
      ]
    },
    {
      "cell_type": "markdown",
      "metadata": {
        "id": "BrBY-iargxM_"
      },
      "source": [
        "# The Normal Distribution"
      ]
    },
    {
      "cell_type": "code",
      "metadata": {
        "id": "aM1h0aQIgVLn"
      },
      "source": [
        "#We can draw normally distributed random numbers"
      ],
      "execution_count": null,
      "outputs": []
    },
    {
      "cell_type": "code",
      "metadata": {
        "id": "KZ0gHk6Mg0cf"
      },
      "source": [
        "from numpy import random\n",
        "rng = random.default_rng()"
      ],
      "execution_count": 1,
      "outputs": []
    },
    {
      "cell_type": "code",
      "metadata": {
        "colab": {
          "base_uri": "https://localhost:8080/"
        },
        "id": "OWhegi0zhMbS",
        "outputId": "a2dda33f-6dd1-490c-e0c8-356e7fe441b4"
      },
      "source": [
        "heights = rng.normal(1.75, 0.15,100)\n",
        "heights"
      ],
      "execution_count": 2,
      "outputs": [
        {
          "output_type": "execute_result",
          "data": {
            "text/plain": [
              "array([1.83341129, 1.8520909 , 1.75849701, 1.82645279, 1.80557273,\n",
              "       1.71908752, 1.69015541, 1.81077584, 1.60334059, 1.50413016,\n",
              "       1.55102875, 1.52623061, 1.58786217, 1.7967295 , 1.82516271,\n",
              "       1.87666634, 1.53669468, 1.84355275, 1.83031176, 1.57589113,\n",
              "       1.75551139, 1.51405751, 1.70841841, 1.75854699, 1.85507285,\n",
              "       1.7131623 , 1.6843655 , 1.44289804, 1.73040905, 1.94796047,\n",
              "       1.59511988, 1.48845162, 1.86794263, 1.71079863, 1.65560432,\n",
              "       1.91056862, 1.85198761, 1.75728307, 1.5902066 , 1.86549548,\n",
              "       1.38962035, 1.93409004, 1.75566445, 1.86170259, 1.74590745,\n",
              "       1.83910582, 1.77713849, 1.97381706, 1.58280583, 1.9208852 ,\n",
              "       1.89926232, 1.80833438, 1.76625839, 1.92353837, 1.71558066,\n",
              "       1.80480585, 1.41850901, 1.65930651, 1.6786968 , 1.44072609,\n",
              "       1.81899058, 1.80546225, 1.95935558, 1.78167583, 1.57992312,\n",
              "       2.10236282, 1.93344112, 1.84842232, 1.73654961, 1.81511552,\n",
              "       1.7367718 , 1.85036712, 1.53785573, 2.02348532, 1.71114328,\n",
              "       1.54185378, 1.4991463 , 1.65014359, 1.74604874, 1.7444913 ,\n",
              "       1.76548537, 1.9826175 , 1.67862279, 1.55718449, 1.63060545,\n",
              "       1.80844243, 1.76442877, 1.72294081, 1.69548141, 1.72160362,\n",
              "       1.75773001, 1.75413116, 1.64508761, 1.9934537 , 1.91277685,\n",
              "       1.99723353, 1.69053344, 1.4964811 , 1.5443027 , 1.74929963])"
            ]
          },
          "metadata": {},
          "execution_count": 2
        }
      ]
    },
    {
      "cell_type": "code",
      "metadata": {
        "colab": {
          "base_uri": "https://localhost:8080/",
          "height": 298
        },
        "id": "SwcAHL93hl32",
        "outputId": "e906995f-1e49-43f0-f4f5-0975176725e3"
      },
      "source": [
        "#Drawing histogram of normally didtributted values\n",
        "import matplotlib.pyplot as plt\n",
        "y = rng.normal(1.75,0.15, 1000)\n",
        "plt.hist(y)\n",
        "plt.title(\"Histogram\")"
      ],
      "execution_count": 8,
      "outputs": [
        {
          "output_type": "execute_result",
          "data": {
            "text/plain": [
              "Text(0.5, 1.0, 'Histogram')"
            ]
          },
          "metadata": {},
          "execution_count": 8
        },
        {
          "output_type": "display_data",
          "data": {
            "image/png": "[encoded data removed]",
            "text/plain": [
              "<Figure size 432x288 with 1 Axes>"
            ]
          },
          "metadata": {
            "needs_background": "light"
          }
        }
      ]
    },
    {
      "cell_type": "markdown",
      "metadata": {
        "id": "N5_Dvfkglxks"
      },
      "source": [
        "----"
      ]
    },
    {
      "cell_type": "markdown",
      "metadata": {
        "id": "b88YIQC1lwQh"
      },
      "source": [
        "# Basic Statistics"
      ]
    },
    {
      "cell_type": "code",
      "metadata": {
        "colab": {
          "base_uri": "https://localhost:8080/"
        },
        "id": "mhkeDxPSl3qb",
        "outputId": "e6e2b55c-c32b-4dab-d9d6-a1043b4d59a7"
      },
      "source": [
        "import numpy as np\n",
        "\n",
        "array = np.array([4,8,15,16,23,45])\n",
        "#Mean\n",
        "np.mean(array)\n"
      ],
      "execution_count": 10,
      "outputs": [
        {
          "output_type": "execute_result",
          "data": {
            "text/plain": [
              "18.5"
            ]
          },
          "metadata": {},
          "execution_count": 10
        }
      ]
    },
    {
      "cell_type": "code",
      "metadata": {
        "colab": {
          "base_uri": "https://localhost:8080/"
        },
        "id": "XCXqLl17nGu-",
        "outputId": "85fcbd67-00d2-45e8-c1ac-69fc66d1372e"
      },
      "source": [
        "#standard deviation; how dar is the distribution spreaded\n",
        "np.std(array)"
      ],
      "execution_count": 11,
      "outputs": [
        {
          "output_type": "execute_result",
          "data": {
            "text/plain": [
              "13.30100246848585"
            ]
          },
          "metadata": {},
          "execution_count": 11
        }
      ]
    },
    {
      "cell_type": "code",
      "metadata": {
        "colab": {
          "base_uri": "https://localhost:8080/"
        },
        "id": "XQkbmXXQncgj",
        "outputId": "4fc1495e-8275-4ff2-b037-cdf24e9ccc0c"
      },
      "source": [
        "#Varience\n",
        "np.var(array)"
      ],
      "execution_count": 12,
      "outputs": [
        {
          "output_type": "execute_result",
          "data": {
            "text/plain": [
              "176.91666666666666"
            ]
          },
          "metadata": {},
          "execution_count": 12
        }
      ]
    },
    {
      "cell_type": "code",
      "metadata": {
        "colab": {
          "base_uri": "https://localhost:8080/"
        },
        "id": "9QjhKqylnjYN",
        "outputId": "61d008f1-9dda-4667-9a99-24025eb130a0"
      },
      "source": [
        "#median\n",
        "np.median(array)"
      ],
      "execution_count": 13,
      "outputs": [
        {
          "output_type": "execute_result",
          "data": {
            "text/plain": [
              "15.5"
            ]
          },
          "metadata": {},
          "execution_count": 13
        }
      ]
    },
    {
      "cell_type": "code",
      "metadata": {
        "id": "rEn9xDr_n7PD"
      },
      "source": [
        ""
      ],
      "execution_count": null,
      "outputs": []
    },
    {
      "cell_type": "markdown",
      "metadata": {
        "id": "ZvgW__o6oj96"
      },
      "source": [
        "# Finding Unique Values"
      ]
    },
    {
      "cell_type": "code",
      "metadata": {
        "id": "KzS0f2yrpQOs"
      },
      "source": [
        "array1 = np.array([3,4,4,5,7,9,2,8,8,9,1,13])"
      ],
      "execution_count": 15,
      "outputs": []
    },
    {
      "cell_type": "code",
      "metadata": {
        "id": "kzdXMJx5pWW5"
      },
      "source": [
        "unique = np.unique(array1, return_counts= True)"
      ],
      "execution_count": 20,
      "outputs": []
    },
    {
      "cell_type": "code",
      "metadata": {
        "colab": {
          "base_uri": "https://localhost:8080/"
        },
        "id": "7_oxZcv7p8_D",
        "outputId": "e9325780-b4dd-49c6-900b-03fa3eb0f5fd"
      },
      "source": [
        "array1"
      ],
      "execution_count": 21,
      "outputs": [
        {
          "output_type": "execute_result",
          "data": {
            "text/plain": [
              "array([ 3,  4,  4,  5,  7,  9,  2,  8,  8,  9,  1, 13])"
            ]
          },
          "metadata": {},
          "execution_count": 21
        }
      ]
    },
    {
      "cell_type": "code",
      "metadata": {
        "colab": {
          "base_uri": "https://localhost:8080/"
        },
        "id": "xTQ7awsyp-rg",
        "outputId": "942954ff-8aa3-4fb0-f569-5cde119bf736"
      },
      "source": [
        "unique"
      ],
      "execution_count": 22,
      "outputs": [
        {
          "output_type": "execute_result",
          "data": {
            "text/plain": [
              "(array([ 1,  2,  3,  4,  5,  7,  8,  9, 13]),\n",
              " array([1, 1, 1, 2, 1, 1, 2, 2, 1]))"
            ]
          },
          "metadata": {},
          "execution_count": 22
        }
      ]
    },
    {
      "cell_type": "code",
      "metadata": {
        "id": "_jcEWnVFqBlU"
      },
      "source": [
        "#Draw Bar plot\n",
        "unique_values, counts = np.unique(array1, return_counts= True)"
      ],
      "execution_count": 23,
      "outputs": []
    },
    {
      "cell_type": "code",
      "metadata": {
        "colab": {
          "base_uri": "https://localhost:8080/",
          "height": 296
        },
        "id": "UFBjUSVSq5eO",
        "outputId": "35f7a7b7-2885-4360-81c9-6584c200f671"
      },
      "source": [
        "plt.bar(unique_values, counts)\n",
        "plt.xlabel(\"Unique Values\")\n",
        "plt.ylabel(\"Counts\")"
      ],
      "execution_count": 25,
      "outputs": [
        {
          "output_type": "execute_result",
          "data": {
            "text/plain": [
              "Text(0, 0.5, 'Counts')"
            ]
          },
          "metadata": {},
          "execution_count": 25
        },
        {
          "output_type": "display_data",
          "data": {
            "image/png": "[encoded data removed]",
            "text/plain": [
              "<Figure size 432x288 with 1 Axes>"
            ]
          },
          "metadata": {
            "needs_background": "light"
          }
        }
      ]
    },
    {
      "cell_type": "code",
      "metadata": {
        "colab": {
          "base_uri": "https://localhost:8080/",
          "height": 35
        },
        "id": "kgiT8-LTrCJV",
        "outputId": "62697b20-478a-4e97-850c-11705f0244da"
      },
      "source": [
        "#Checking the version\n",
        "np.__version__"
      ],
      "execution_count": 26,
      "outputs": [
        {
          "output_type": "execute_result",
          "data": {
            "application/vnd.google.colaboratory.intrinsic+json": {
              "type": "string"
            },
            "text/plain": [
              "'1.19.5'"
            ]
          },
          "metadata": {},
          "execution_count": 26
        }
      ]
    },
    {
      "cell_type": "markdown",
      "metadata": {
        "id": "v7dyCibasmnD"
      },
      "source": [
        "-----"
      ]
    }
  ]
}