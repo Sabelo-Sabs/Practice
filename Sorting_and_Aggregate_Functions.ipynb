{
  "nbformat": 4,
  "nbformat_minor": 0,
  "metadata": {
    "colab": {
      "name": "Sorting and Aggregate Functions.ipynb",
      "provenance": [],
      "collapsed_sections": [
        "jhfL6syRjhG9",
        "zUiJU2G7kBBt",
        "McyipsBRoIsW",
        "fGRJTJ6BsTS-"
      ],
      "toc_visible": true,
      "authorship_tag": "ABX9TyO/RYeKU1EXgOxx66ZGf52D",
      "include_colab_link": true
    },
    "kernelspec": {
      "name": "python3",
      "display_name": "Python 3"
    },
    "language_info": {
      "name": "python"
    }
  },
  "cells": [
    {
      "cell_type": "markdown",
      "metadata": {
        "id": "view-in-github",
        "colab_type": "text"
      },
      "source": [
        "<a href=\"https://colab.research.google.com/github/Sabelo-Sabs/Practice/blob/main/Sorting_and_Aggregate_Functions.ipynb\" target=\"_parent\"><img src=\"https://colab.research.google.com/assets/colab-badge.svg\" alt=\"Open In Colab\"/></a>"
      ]
    },
    {
      "cell_type": "markdown",
      "metadata": {
        "id": "jhfL6syRjhG9"
      },
      "source": [
        "# Two ways of sorting arrays in numpy"
      ]
    },
    {
      "cell_type": "markdown",
      "metadata": {
        "id": "zUiJU2G7kBBt"
      },
      "source": [
        "### First way"
      ]
    },
    {
      "cell_type": "code",
      "metadata": {
        "colab": {
          "base_uri": "https://localhost:8080/"
        },
        "id": "116w5RNbkGf4",
        "outputId": "481567fa-7c73-4854-d1dc-b6bcffef602e"
      },
      "source": [
        "import numpy as np\n",
        "dt = np.array([12,1,6,3,9,22,689,45])\n",
        "dt"
      ],
      "execution_count": 7,
      "outputs": [
        {
          "output_type": "execute_result",
          "data": {
            "text/plain": [
              "array([ 12,   1,   6,   3,   9,  22, 689,  45])"
            ]
          },
          "metadata": {},
          "execution_count": 7
        }
      ]
    },
    {
      "cell_type": "code",
      "metadata": {
        "id": "vtM89QymkjNP"
      },
      "source": [
        "#.sort() method, sorts the array in-place; meaning it sorts the origial vector\n",
        "dt.sort()"
      ],
      "execution_count": 3,
      "outputs": []
    },
    {
      "cell_type": "code",
      "metadata": {
        "colab": {
          "base_uri": "https://localhost:8080/"
        },
        "id": "V-P59PJPlI9B",
        "outputId": "284f09e8-a19e-4d31-c80d-8eff899c493d"
      },
      "source": [
        "dt"
      ],
      "execution_count": 4,
      "outputs": [
        {
          "output_type": "execute_result",
          "data": {
            "text/plain": [
              "array([  1,   3,   6,   9,  12,  22,  45, 689])"
            ]
          },
          "metadata": {},
          "execution_count": 4
        }
      ]
    },
    {
      "cell_type": "markdown",
      "metadata": {
        "id": "n1k9CzlIm8kJ"
      },
      "source": [
        "### Second way"
      ]
    },
    {
      "cell_type": "code",
      "metadata": {
        "id": "W7yLqBVXnILc"
      },
      "source": [
        "# np.sort() this function returns a sorted array\n",
        "dt_sorted = np.sort(dt)"
      ],
      "execution_count": 8,
      "outputs": []
    },
    {
      "cell_type": "code",
      "metadata": {
        "colab": {
          "base_uri": "https://localhost:8080/"
        },
        "id": "cKobDqC0na3M",
        "outputId": "9328a64c-cb24-466c-f5ce-8ef055df6cc3"
      },
      "source": [
        "dt"
      ],
      "execution_count": 9,
      "outputs": [
        {
          "output_type": "execute_result",
          "data": {
            "text/plain": [
              "array([ 12,   1,   6,   3,   9,  22, 689,  45])"
            ]
          },
          "metadata": {},
          "execution_count": 9
        }
      ]
    },
    {
      "cell_type": "code",
      "metadata": {
        "colab": {
          "base_uri": "https://localhost:8080/"
        },
        "id": "AgvzCEOLnhIY",
        "outputId": "26b61157-36ab-4f6e-9ba4-22329ba0da08"
      },
      "source": [
        "dt_sorted"
      ],
      "execution_count": 10,
      "outputs": [
        {
          "output_type": "execute_result",
          "data": {
            "text/plain": [
              "array([  1,   3,   6,   9,  12,  22,  45, 689])"
            ]
          },
          "metadata": {},
          "execution_count": 10
        }
      ]
    },
    {
      "cell_type": "markdown",
      "metadata": {
        "id": "IXYBrMd-oE8G"
      },
      "source": [
        "------"
      ]
    },
    {
      "cell_type": "code",
      "metadata": {
        "id": "m5OKyKR9oF0i"
      },
      "source": [
        ""
      ],
      "execution_count": null,
      "outputs": []
    },
    {
      "cell_type": "markdown",
      "metadata": {
        "id": "McyipsBRoIsW"
      },
      "source": [
        "# Copies VS Views"
      ]
    },
    {
      "cell_type": "code",
      "metadata": {
        "colab": {
          "base_uri": "https://localhost:8080/"
        },
        "id": "XULTKdLKoMil",
        "outputId": "527e202f-8e72-4cd1-ea38-d87f0670c60b"
      },
      "source": [
        "#Reverse an array\n",
        "array = np.array([2,5,7,2,64])\n",
        "arr_reversed = array[::-1]\n",
        "\n",
        "#modify the reversed arry\n",
        "arr_reversed[0] = 10\n",
        "print(\"Modified:\", arr_reversed)\n",
        "print(\"Original:\", array)"
      ],
      "execution_count": 11,
      "outputs": [
        {
          "output_type": "stream",
          "name": "stdout",
          "text": [
            "Modified: [10  2  7  5  2]\n",
            "Original: [ 2  5  7  2 10]\n"
          ]
        }
      ]
    },
    {
      "cell_type": "code",
      "metadata": {
        "id": "b-BT19WSpXX6"
      },
      "source": [
        "#Looking the above cell both original and modified are modified. This is because slicing created a 'view'\n",
        "# modification on a slice also affects the original array"
      ],
      "execution_count": 12,
      "outputs": []
    },
    {
      "cell_type": "code",
      "metadata": {
        "colab": {
          "base_uri": "https://localhost:8080/"
        },
        "id": "3k41HeQVqVfv",
        "outputId": "e2318ddb-1999-41ed-b533-3cc3ab365c84"
      },
      "source": [
        "#Make all elements positive\n",
        "array_1 = np.array([-2,36,23,57,86,22,12])\n",
        "array_1pos = np.abs(array_1)\n",
        "\n",
        "array_1pos[0] = 33\n",
        "print(\"modified\", array_1pos)\n",
        "print(\"Original\", array_1)"
      ],
      "execution_count": 14,
      "outputs": [
        {
          "output_type": "stream",
          "name": "stdout",
          "text": [
            "modified [33 36 23 57 86 22 12]\n",
            "Original [-2 36 23 57 86 22 12]\n"
          ]
        }
      ]
    },
    {
      "cell_type": "code",
      "metadata": {
        "id": "2gqfzY_zrPBR"
      },
      "source": [
        "#np.abs() this returns a copy!"
      ],
      "execution_count": null,
      "outputs": []
    },
    {
      "cell_type": "markdown",
      "metadata": {
        "id": "wAZe1C2BsQCj"
      },
      "source": [
        "-----"
      ]
    },
    {
      "cell_type": "code",
      "metadata": {
        "id": "ehvrcDAasRAD"
      },
      "source": [
        ""
      ],
      "execution_count": null,
      "outputs": []
    },
    {
      "cell_type": "markdown",
      "metadata": {
        "id": "fGRJTJ6BsTS-"
      },
      "source": [
        "# Aggregate Functions"
      ]
    },
    {
      "cell_type": "code",
      "metadata": {
        "colab": {
          "base_uri": "https://localhost:8080/"
        },
        "id": "MoLSNFCKsgCR",
        "outputId": "ec494874-8207-41d6-a7b7-5c1cc8eda80e"
      },
      "source": [
        "#We'll use the previous array we've used.\n",
        "array"
      ],
      "execution_count": 15,
      "outputs": [
        {
          "output_type": "execute_result",
          "data": {
            "text/plain": [
              "array([ 2,  5,  7,  2, 10])"
            ]
          },
          "metadata": {},
          "execution_count": 15
        }
      ]
    },
    {
      "cell_type": "code",
      "metadata": {
        "colab": {
          "base_uri": "https://localhost:8080/"
        },
        "id": "YLBx6m7Osmpv",
        "outputId": "d1a51ce4-608a-430a-def3-47417f00d5e5"
      },
      "source": [
        "#Let's take the sum of our array.\n",
        "sum_array = np.sum(array)\n",
        "print(\"Sum:\", sum_array)"
      ],
      "execution_count": 17,
      "outputs": [
        {
          "output_type": "stream",
          "name": "stdout",
          "text": [
            "Sum: 26\n"
          ]
        }
      ]
    },
    {
      "cell_type": "code",
      "metadata": {
        "id": "DtAPMeeItU7Z"
      },
      "source": [
        "#The mean.\n",
        "mean_array = np.mean(array)"
      ],
      "execution_count": 18,
      "outputs": []
    },
    {
      "cell_type": "code",
      "metadata": {
        "colab": {
          "base_uri": "https://localhost:8080/"
        },
        "id": "PlgNqP2tt1PF",
        "outputId": "0ad220a3-84b4-44d7-d2f0-3da78dbaaa1c"
      },
      "source": [
        "print(\"Average:\", mean_array)"
      ],
      "execution_count": 20,
      "outputs": [
        {
          "output_type": "stream",
          "name": "stdout",
          "text": [
            "Average: 5.2\n"
          ]
        }
      ]
    },
    {
      "cell_type": "code",
      "metadata": {
        "colab": {
          "base_uri": "https://localhost:8080/"
        },
        "id": "n4VvszInt4xY",
        "outputId": "c357f52f-dd67-438a-fc08-7ee3e53e079e"
      },
      "source": [
        "#Product of an array\n",
        "product_array = np.prod(array)\n",
        "print(\"Product:\", product_array)"
      ],
      "execution_count": 21,
      "outputs": [
        {
          "output_type": "stream",
          "name": "stdout",
          "text": [
            "Product: 1400\n"
          ]
        }
      ]
    },
    {
      "cell_type": "code",
      "metadata": {
        "colab": {
          "base_uri": "https://localhost:8080/"
        },
        "id": "A0k8WSGHup5k",
        "outputId": "4733cffe-a306-432e-d742-4d6a9c96d554"
      },
      "source": [
        "#max/min\n",
        "print(\"Max:\", np.max(array))\n",
        "print(\"Min:\", np.min(array))"
      ],
      "execution_count": 23,
      "outputs": [
        {
          "output_type": "stream",
          "name": "stdout",
          "text": [
            "Max: 10\n",
            "Min: 2\n"
          ]
        }
      ]
    },
    {
      "cell_type": "code",
      "metadata": {
        "colab": {
          "base_uri": "https://localhost:8080/"
        },
        "id": "tphhf7d4vYO5",
        "outputId": "a9666483-1452-4d79-916c-f54ba342877c"
      },
      "source": [
        "#Argmax/Argmin\n",
        "#where it takes place,indices.\n",
        "print(\"Argmax:\", np.argmax(array))\n",
        "print(\"Argmin:\", np.argmin(array))"
      ],
      "execution_count": 26,
      "outputs": [
        {
          "output_type": "stream",
          "name": "stdout",
          "text": [
            "Argmax: 4\n",
            "Argmin: 0\n"
          ]
        }
      ]
    },
    {
      "cell_type": "code",
      "metadata": {
        "id": "tj4QDphWv-sI"
      },
      "source": [
        "#Aggregate Function make you code short and sweet. They're the best."
      ],
      "execution_count": null,
      "outputs": []
    }
  ]
}