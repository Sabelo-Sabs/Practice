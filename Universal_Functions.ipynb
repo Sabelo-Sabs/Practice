{
  "nbformat": 4,
  "nbformat_minor": 0,
  "metadata": {
    "colab": {
      "name": "Universal Functions.ipynb",
      "provenance": [],
      "collapsed_sections": [
        "aEuSkXOCxTqZ",
        "p3QL2vkc1Dyd",
        "UgIOcj2iLqrn"
      ],
      "toc_visible": true,
      "authorship_tag": "ABX9TyMdkxJdwqFMW14a/TqdeQjc",
      "include_colab_link": true
    },
    "kernelspec": {
      "name": "python3",
      "display_name": "Python 3"
    },
    "language_info": {
      "name": "python"
    }
  },
  "cells": [
    {
      "cell_type": "markdown",
      "metadata": {
        "id": "view-in-github",
        "colab_type": "text"
      },
      "source": [
        "<a href=\"https://colab.research.google.com/github/Sabelo-Sabs/Practice/blob/main/Universal_Functions.ipynb\" target=\"_parent\"><img src=\"https://colab.research.google.com/assets/colab-badge.svg\" alt=\"Open In Colab\"/></a>"
      ]
    },
    {
      "cell_type": "markdown",
      "metadata": {
        "id": "aEuSkXOCxTqZ"
      },
      "source": [
        "# Use Functions.\n",
        "### Universal functions are functions that act on an array element by element."
      ]
    },
    {
      "cell_type": "code",
      "metadata": {
        "colab": {
          "base_uri": "https://localhost:8080/"
        },
        "id": "jaQqdYEgxJ-4",
        "outputId": "23617ae7-0cef-4710-e5cd-c438d244b5c8"
      },
      "source": [
        "import numpy as np\n",
        "vector = np.arange(1,6) # Creating an array from 1-5\n",
        "vector"
      ],
      "execution_count": 6,
      "outputs": [
        {
          "output_type": "execute_result",
          "data": {
            "text/plain": [
              "array([1, 2, 3, 4, 5])"
            ]
          },
          "metadata": {},
          "execution_count": 6
        }
      ]
    },
    {
      "cell_type": "code",
      "metadata": {
        "colab": {
          "base_uri": "https://localhost:8080/"
        },
        "id": "PUXit_3my3FC",
        "outputId": "e4b716eb-b695-416c-b2ed-1a823a60da9e"
      },
      "source": [
        "np.exp(vector) #e exponent of all elements."
      ],
      "execution_count": 7,
      "outputs": [
        {
          "output_type": "execute_result",
          "data": {
            "text/plain": [
              "array([  2.71828183,   7.3890561 ,  20.08553692,  54.59815003,\n",
              "       148.4131591 ])"
            ]
          },
          "metadata": {},
          "execution_count": 7
        }
      ]
    },
    {
      "cell_type": "code",
      "metadata": {
        "colab": {
          "base_uri": "https://localhost:8080/"
        },
        "id": "0JmOlwpAzYJ_",
        "outputId": "8a3ccc2b-a841-4df5-d281-41a8f50de140"
      },
      "source": [
        "vector * np.pi # multiplying by the constant pi"
      ],
      "execution_count": 8,
      "outputs": [
        {
          "output_type": "execute_result",
          "data": {
            "text/plain": [
              "array([ 3.14159265,  6.28318531,  9.42477796, 12.56637061, 15.70796327])"
            ]
          },
          "metadata": {},
          "execution_count": 8
        }
      ]
    },
    {
      "cell_type": "code",
      "metadata": {
        "colab": {
          "base_uri": "https://localhost:8080/"
        },
        "id": "qlE_KWKXzii0",
        "outputId": "cb83fdbe-6138-4f86-a351-9afdff766054"
      },
      "source": [
        "np.cos(vector * np.pi) #Using the cos function"
      ],
      "execution_count": 9,
      "outputs": [
        {
          "output_type": "execute_result",
          "data": {
            "text/plain": [
              "array([-1.,  1., -1.,  1., -1.])"
            ]
          },
          "metadata": {},
          "execution_count": 9
        }
      ]
    },
    {
      "cell_type": "code",
      "metadata": {
        "colab": {
          "base_uri": "https://localhost:8080/"
        },
        "id": "_2VSwh7y0Ckg",
        "outputId": "fc62013e-16e7-4e4b-b708-c556a73fcc3a"
      },
      "source": [
        "np.log(np.e * vector)"
      ],
      "execution_count": 10,
      "outputs": [
        {
          "output_type": "execute_result",
          "data": {
            "text/plain": [
              "array([1.        , 1.69314718, 2.09861229, 2.38629436, 2.60943791])"
            ]
          },
          "metadata": {},
          "execution_count": 10
        }
      ]
    },
    {
      "cell_type": "markdown",
      "metadata": {
        "id": "s2cHWgWp05J7"
      },
      "source": [
        "----"
      ]
    },
    {
      "cell_type": "markdown",
      "metadata": {
        "id": "p3QL2vkc1Dyd"
      },
      "source": [
        "# Basic Plotting"
      ]
    },
    {
      "cell_type": "code",
      "metadata": {
        "id": "jTD6GSe61LMd"
      },
      "source": [
        "import matplotlib.pyplot as plt\n"
      ],
      "execution_count": 11,
      "outputs": []
    },
    {
      "cell_type": "code",
      "metadata": {
        "id": "cF7UikQGHCad"
      },
      "source": [
        "#In order to plot our graph we need our x and y values\n",
        "x_val =np.arange(0,5)\n",
        "y_val = np.sin(x_val)\n"
      ],
      "execution_count": 13,
      "outputs": []
    },
    {
      "cell_type": "code",
      "metadata": {
        "colab": {
          "base_uri": "https://localhost:8080/"
        },
        "id": "Mmp5b3XaHrDw",
        "outputId": "c3e512fa-c09f-40a9-e08d-0507422264b0"
      },
      "source": [
        "x_val"
      ],
      "execution_count": 14,
      "outputs": [
        {
          "output_type": "execute_result",
          "data": {
            "text/plain": [
              "array([0, 1, 2, 3, 4])"
            ]
          },
          "metadata": {},
          "execution_count": 14
        }
      ]
    },
    {
      "cell_type": "code",
      "metadata": {
        "colab": {
          "base_uri": "https://localhost:8080/"
        },
        "id": "ctFIaCxKHte4",
        "outputId": "d5adab18-3c61-4ecf-a215-7ec790b3ce13"
      },
      "source": [
        "y_val"
      ],
      "execution_count": 15,
      "outputs": [
        {
          "output_type": "execute_result",
          "data": {
            "text/plain": [
              "array([ 0.        ,  0.84147098,  0.90929743,  0.14112001, -0.7568025 ])"
            ]
          },
          "metadata": {},
          "execution_count": 15
        }
      ]
    },
    {
      "cell_type": "code",
      "metadata": {
        "colab": {
          "base_uri": "https://localhost:8080/",
          "height": 282
        },
        "id": "wi5arjyaHvDf",
        "outputId": "b99f73c1-08e8-483b-e1bb-80686190fc4b"
      },
      "source": [
        "plt.plot(x_val,y_val)"
      ],
      "execution_count": 16,
      "outputs": [
        {
          "output_type": "execute_result",
          "data": {
            "text/plain": [
              "[<matplotlib.lines.Line2D at 0x7f7551963b90>]"
            ]
          },
          "metadata": {},
          "execution_count": 16
        },
        {
          "output_type": "display_data",
          "data": {
            "image/png": "[encoded data removed]",
            "text/plain": [
              "<Figure size 432x288 with 1 Axes>"
            ]
          },
          "metadata": {
            "needs_background": "light"
          }
        }
      ]
    },
    {
      "cell_type": "markdown",
      "metadata": {
        "id": "mHImDAS3I_NW"
      },
      "source": [
        "Plot the function $2\\cos(x)$ between 0 and $\\pi$"
      ]
    },
    {
      "cell_type": "code",
      "metadata": {
        "id": "HsM166-AI8bf"
      },
      "source": [
        "x = np.linspace(0,np.pi,100)\n",
        "y = 2*np.cos(x)"
      ],
      "execution_count": 18,
      "outputs": []
    },
    {
      "cell_type": "code",
      "metadata": {
        "colab": {
          "base_uri": "https://localhost:8080/",
          "height": 296
        },
        "id": "1LrwBW74J6Tt",
        "outputId": "85241f94-9cad-4dda-edfd-a356e49a0e10"
      },
      "source": [
        "plt.plot(x,y)\n",
        "plt.xlabel(\"X values\")\n",
        "plt.ylabel(\"2cos(x)\")"
      ],
      "execution_count": 20,
      "outputs": [
        {
          "output_type": "execute_result",
          "data": {
            "text/plain": [
              "Text(0, 0.5, '2cos(x)')"
            ]
          },
          "metadata": {},
          "execution_count": 20
        },
        {
          "output_type": "display_data",
          "data": {
            "image/png": "[encoded data removed]",
            "text/plain": [
              "<Figure size 432x288 with 1 Axes>"
            ]
          },
          "metadata": {
            "needs_background": "light"
          }
        }
      ]
    },
    {
      "cell_type": "markdown",
      "metadata": {
        "id": "ADi8T9HELn29"
      },
      "source": [
        "-----"
      ]
    },
    {
      "cell_type": "markdown",
      "metadata": {
        "id": "UgIOcj2iLqrn"
      },
      "source": [
        "# Bar Plots and Scatter Plots"
      ]
    },
    {
      "cell_type": "code",
      "metadata": {
        "colab": {
          "base_uri": "https://localhost:8080/"
        },
        "id": "NO_5wLlWL0XP",
        "outputId": "5a26ea59-e880-430f-86b4-b9397b9c8f47"
      },
      "source": [
        "#Bar Plots\n",
        "vector1 = np.array([6,32,8,6,0]) # How much it rained per day.\n",
        "vector1"
      ],
      "execution_count": 21,
      "outputs": [
        {
          "output_type": "execute_result",
          "data": {
            "text/plain": [
              "array([ 6, 32,  8,  6,  0])"
            ]
          },
          "metadata": {},
          "execution_count": 21
        }
      ]
    },
    {
      "cell_type": "code",
      "metadata": {
        "colab": {
          "base_uri": "https://localhost:8080/"
        },
        "id": "wPUicPWIMN1s",
        "outputId": "ae0207de-8381-4980-8921-eba84d54f08f"
      },
      "source": [
        "num_days = np.arange(1, (len(vector1) +1))\n",
        "num_days"
      ],
      "execution_count": 24,
      "outputs": [
        {
          "output_type": "execute_result",
          "data": {
            "text/plain": [
              "array([1, 2, 3, 4, 5])"
            ]
          },
          "metadata": {},
          "execution_count": 24
        }
      ]
    },
    {
      "cell_type": "code",
      "metadata": {
        "colab": {
          "base_uri": "https://localhost:8080/",
          "height": 312
        },
        "id": "yY74jvk5NErB",
        "outputId": "fa16971e-7456-49cf-c3d1-15f4e95d5099"
      },
      "source": [
        "plt.bar(num_days,vector1)\n",
        "plt.xlabel(\"Number of days\")\n",
        "plt.ylabel(\"Rainfall in mm\")\n",
        "plt.title(\"Rain in October first weekdays, Bellville\")"
      ],
      "execution_count": 27,
      "outputs": [
        {
          "output_type": "execute_result",
          "data": {
            "text/plain": [
              "Text(0.5, 1.0, 'Rain in October first weekdays, Bellville')"
            ]
          },
          "metadata": {},
          "execution_count": 27
        },
        {
          "output_type": "display_data",
          "data": {
            "image/png": "[encoded data removed]",
            "text/plain": [
              "<Figure size 432x288 with 1 Axes>"
            ]
          },
          "metadata": {
            "needs_background": "light"
          }
        }
      ]
    },
    {
      "cell_type": "markdown",
      "metadata": {
        "id": "MPLXFctrOjFt"
      },
      "source": [
        "------"
      ]
    },
    {
      "cell_type": "code",
      "metadata": {
        "colab": {
          "base_uri": "https://localhost:8080/"
        },
        "id": "RbGTJ1rbOkHG",
        "outputId": "a5348abb-f4e1-4c7a-de99-a5cfe38c7be7"
      },
      "source": [
        "#Scatter plots\n",
        "xval = np.array([1,2,3,3.5,4,4.6,5,6,7.9])\n",
        "xval"
      ],
      "execution_count": 33,
      "outputs": [
        {
          "output_type": "execute_result",
          "data": {
            "text/plain": [
              "array([1. , 2. , 3. , 3.5, 4. , 4.6, 5. , 6. , 7.9])"
            ]
          },
          "metadata": {},
          "execution_count": 33
        }
      ]
    },
    {
      "cell_type": "code",
      "metadata": {
        "colab": {
          "base_uri": "https://localhost:8080/"
        },
        "id": "pb7KwvA7PMYI",
        "outputId": "0e6b2174-bceb-402b-c5b5-b6f0682b29f4"
      },
      "source": [
        "yval = np.array([1.4,2,2.7,3,3.3,4,5,7,7.3])\n",
        "yval"
      ],
      "execution_count": 35,
      "outputs": [
        {
          "output_type": "execute_result",
          "data": {
            "text/plain": [
              "array([1.4, 2. , 2.7, 3. , 3.3, 4. , 5. , 7. , 7.3])"
            ]
          },
          "metadata": {},
          "execution_count": 35
        }
      ]
    },
    {
      "cell_type": "code",
      "metadata": {
        "colab": {
          "base_uri": "https://localhost:8080/",
          "height": 312
        },
        "id": "6NQwLga8Pvt-",
        "outputId": "b501cad7-1efd-4a77-e0ce-ce873e9f7aa4"
      },
      "source": [
        "plt.scatter(xval,yval)\n",
        "plt.xlabel(\"x values\")\n",
        "plt.ylabel(\"y values\")\n",
        "plt.title(\"Experiment\")\n"
      ],
      "execution_count": 37,
      "outputs": [
        {
          "output_type": "execute_result",
          "data": {
            "text/plain": [
              "Text(0.5, 1.0, 'Experiment')"
            ]
          },
          "metadata": {},
          "execution_count": 37
        },
        {
          "output_type": "display_data",
          "data": {
            "image/png": "[encoded data removed]",
            "text/plain": [
              "<Figure size 432x288 with 1 Axes>"
            ]
          },
          "metadata": {
            "needs_background": "light"
          }
        }
      ]
    },
    {
      "cell_type": "markdown",
      "metadata": {
        "id": "437KpQE-RPrx"
      },
      "source": [
        "-------------"
      ]
    }
  ]
}